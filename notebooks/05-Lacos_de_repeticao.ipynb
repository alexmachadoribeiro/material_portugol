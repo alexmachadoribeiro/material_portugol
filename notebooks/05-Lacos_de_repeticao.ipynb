{
 "cells": [
  {
   "cell_type": "markdown",
   "id": "11cb220a",
   "metadata": {},
   "source": [
    "# **Laços de Repetição**\n",
    "---"
   ]
  },
  {
   "cell_type": "markdown",
   "id": "39cd6b66",
   "metadata": {},
   "source": [
    "A essa altura do campeonato, você já deve ter visto que os programas só rodam uma única vez. Caso o usuário deseje rodar o programa de novo, ele deverá executar mais uma vez o programa, o que torna a tarefa de executar um programa cansativo, visto que o usuário deverá rodar várias vezes o mesmo programa apenas para testar diferentes resultados. É aí onde entram os ***loops***, ou **laços de repetição**.\n",
    "\n",
    "Eles são blocos de programação que executam um único algoritmo várias vezes seguidas antes de finalizar. O número de vezes em que ele é executado depende de vários fatores, como vamos aprender nessa aula."
   ]
  },
  {
   "cell_type": "markdown",
   "id": "385a028d",
   "metadata": {},
   "source": [
    "## Laço enquanto\n",
    "---"
   ]
  },
  {
   "cell_type": "markdown",
   "id": "223396c1",
   "metadata": {},
   "source": [
    "O `enquanto` é um comando que repete um bloco de programação enquanto uma determinada condição for verdadeira. Por exemplo: vamos criar um programa que recebe um número inteiro do usuário, e o programa imprime na tela os números em ordem decrescente até chegar a zero. Veja:"
   ]
  },
  {
   "cell_type": "markdown",
   "id": "18d1c9ac",
   "metadata": {},
   "source": [
    "#### Contagem\n",
    "\n",
    "~~~portugol\n",
    "programa\n",
    "{\n",
    "    funcao inicio()\n",
    "    {\n",
    "        // declaração de variável\n",
    "        inteiro n\n",
    "\n",
    "        // entrada de dados\n",
    "        escreva(\"Informe um número inteiro: \")\n",
    "        leia(n)\n",
    "\n",
    "        // laço de repetição\n",
    "        enquanto (n >= 0)\n",
    "        {\n",
    "            escreva(n, \"\\n\")\n",
    "            n-- // decremento do valor da variável (subtrai o valor por -1)\n",
    "        }\n",
    "    }\n",
    "}\n",
    "~~~"
   ]
  },
  {
   "cell_type": "markdown",
   "id": "bb1d4794",
   "metadata": {},
   "source": [
    "### Resultado\n",
    "\n",
    "> Informe um número inteiro: 10<br />\n",
    "> 10<br />\n",
    "> 9<br />\n",
    "> 8<br />\n",
    "> 7<br />\n",
    "> 6<br />\n",
    "> 5<br />\n",
    "> 4<br />\n",
    "> 3<br />\n",
    "> 2<br />\n",
    "> 1<br />\n",
    "> 0<br />"
   ]
  },
  {
   "cell_type": "markdown",
   "id": "37b89a63",
   "metadata": {},
   "source": [
    "### Explicação\n",
    "\n",
    "Antes de entrar na estrutura do laço, o algoritmo analisa a condição, que nesse caso exige que o valor da variável `n` seja maior ou igual a `0`. Caso o usuário informe um valor menor que `0`, o programa simplesmente vai pular o laço de repetição, e não vai executá-lo. Mas caso a condição seja verdadeira, o programa imprime na tela o valor de `n`, e em seguida, faz um decremento, que é basicamente pegar o valor de `n` e subtrair por -1. Ele faz isso através do comando `n--`. Isso possibilita que o valor de `n` vai sempre decrescer, e evita que o programa entre no que chamamos de **loop infinito**.\n",
    "\n",
    "> ***Loop infinito é uma condição onde o programa executa infinitamente um determinado comando ou código. Isso normalmente é um problema, pois o programa irá consumir a memória RAM do compputador totalmente antes do término de sua execução, sendo que o consumo aumenta em progressão geométrica, o que significa que, em algum momento, todo o computador irá travar, restando ao usuário reiniciar a máquina à força.***"
   ]
  },
  {
   "cell_type": "markdown",
   "id": "92a969eb",
   "metadata": {},
   "source": [
    "## Faca...enquanto\n",
    "---"
   ]
  },
  {
   "cell_type": "markdown",
   "id": "12a2ba1e",
   "metadata": {},
   "source": [
    "A estrutura **faca...enquanto** é bem parecida com o laço de repetição anterior: da mesma forma, ele repete o bloco de programação enquanto uma determinada condição for verdadeira. A diferença está na primeira execução do laço: no `enquanto`, a condição precisava ser verdadeira para que o laço fosse executado. Já no `faca...enquanto`, o bloco de programação é executado pelo menos uma vez, independente da condição ser verdadeira ou falsa, ele garante uma execução, porém ele analisa a condição para verificar se o bloco precisa ser repetido ou não.\n",
    "\n",
    "Essa estrutura é particularmente útil para repetir programas que podem exibir saídas diferentes. Por exemplo: podemos pegar um programa anterior que já criamos, e recriar ele solicitando que o usuário escolha quando deseja fechar o programa.\n",
    "\n",
    "Para o nosso exemplo, vamos criar um programa que receba do usuário dois valores, e o usuário escolhe qual das 4 operações básicas da matemática o programa irá resolver. Ao final, o programa pergunta para o usuário se deseja fazer outro cálculo ou encerrar o programa. Veja:"
   ]
  },
  {
   "cell_type": "markdown",
   "id": "1fd71988",
   "metadata": {},
   "source": [
    "### Calculadora\n",
    "\n",
    "~~~portugol\n",
    "programa\n",
    "{\n",
    "    funcao inicio()\n",
    "    {\n",
    "        // declaração de variáveis\n",
    "        real x, y, result\n",
    "        inteiro operador\n",
    "\n",
    "        // laço de repetição\n",
    "        faca\n",
    "        {\n",
    "            // entrada de dados\n",
    "            escreva(\"Escolha a operação que deseja fazer:\\n\")\n",
    "            escreva(\"1 - somar.\\n\")\n",
    "            escreva(\"2 - subtrair.\\n\")\n",
    "            escreva(\"3 - multiplicar.\\n\")\n",
    "            escreva(\"4 - dividir.\\n\")\n",
    "            escreva(\"5 - encerrar o programa.\\n\")\n",
    "            escreva(\"Informe a operação desejada: \")\n",
    "            leia(operador)\n",
    "\n",
    "            // verifica se a opção não encerra o programa\n",
    "            se (operador != 5)\n",
    "            {\n",
    "                escreva(\"Informe o valor de x: \")\n",
    "                leia(x)\n",
    "                escreva(\"Informe o valor de y: \")\n",
    "                leia(y)\n",
    "            }\n",
    "            senao\n",
    "            {\n",
    "            \tx = 0\n",
    "            \ty = 0\n",
    "            }\n",
    "\n",
    "            // verifica a operação escolhida\n",
    "            escolha (operador)\n",
    "            {\n",
    "                caso 1:\n",
    "                    result = x+y\n",
    "                    escreva(\"Resultado: \", result, \"\\n\")\n",
    "                    pare\n",
    "                caso 2:\n",
    "                    result = x-y\n",
    "                    escreva(\"Resultado: \", result, \"\\n\")\n",
    "                    pare\n",
    "                caso 3:\n",
    "                    result = x*y\n",
    "                    escreva(\"Resultado: \", result, \"\\n\")\n",
    "                    pare\n",
    "                caso 4:\n",
    "                    result = x/y\n",
    "                    escreva(\"Resultado: \", result, \"\\n\")\n",
    "                    pare\n",
    "                caso 5:\n",
    "                    escreva(\"Programa encerrado.\\n\")\n",
    "                    pare\n",
    "                caso contrario:\n",
    "                    escreva(\"Operador inválido.\")\n",
    "            }\n",
    "        } enquanto (operador != 5)\n",
    "    }\n",
    "}\n",
    "~~~"
   ]
  },
  {
   "cell_type": "markdown",
   "id": "f3075189",
   "metadata": {},
   "source": [
    "Execute este código e veja que ele pode mostrar vários resultados diferentes seguidas vezes, e só encerra caso você escolha a opção para encerrar o programa."
   ]
  }
 ],
 "metadata": {
  "language_info": {
   "name": "python"
  }
 },
 "nbformat": 4,
 "nbformat_minor": 5
}
