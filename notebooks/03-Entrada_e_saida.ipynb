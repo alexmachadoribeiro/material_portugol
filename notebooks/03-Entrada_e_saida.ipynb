{
 "cells": [
  {
   "cell_type": "markdown",
   "id": "e9ac043e",
   "metadata": {},
   "source": [
    "# **Entrada e Saída de dados**\n",
    "---"
   ]
  },
  {
   "cell_type": "markdown",
   "id": "e75c8de5",
   "metadata": {},
   "source": [
    "## Pré-requisitos da aula\n",
    "\n",
    "- Lógica de Programação\n",
    "- Portugol\n",
    "\n",
    "---"
   ]
  },
  {
   "cell_type": "markdown",
   "id": "62b4442e",
   "metadata": {},
   "source": [
    "Antes de efetivamente começarmos a programar em qualquer linguagem, precisamos primeiro aprender como qualquer linguagem de programação se comporta. É por isso que começamos com Portugol ao invés da linguagem propriamente dita.\n",
    "\n",
    "A linguagem Portugol se assemelha muito à linguagem C, que por sua vez é a base para a maioria das linguagens de programação atualmente. Ambas precisam de uma função principal, e em ambas os blocos são delimitados por chaves `{}`. As duas são **sensitive case**, ou seja, diferenciam maiúsculas das minúsculas. As principais diferenças entre elas são que no caso do portugol, os comandos são em português, e os comandos não finalizam com ponto-e-vírgula `;`."
   ]
  },
  {
   "cell_type": "markdown",
   "id": "254a95f8",
   "metadata": {},
   "source": [
    "## Variáveis\n",
    "---\n",
    "\n",
    "Variáveis são basicamente elementos cujos valores variam no decorrer do programa. Em programação, ao declarar uma variável, o programa pede para o computador reservar uma parte da memória RAM para armazenar o valor a ser utilizado pelo programa que você está criando."
   ]
  },
  {
   "cell_type": "markdown",
   "id": "368af46d",
   "metadata": {},
   "source": [
    "### Como criar uma variável\n",
    "\n",
    "1. Abra o Portugol Studio e abra uma nova guia para gerar um novo arquivo.\n",
    "2. O código-fonte que irá aparecer é o já conhecido **Hello World**, visto na aula passada.\n",
    "3. Nesse código-fonte, apague a linha que está escrito `escreva(\"Olá Mundo\")`.\n",
    "4. Escreva o seguinte código:"
   ]
  },
  {
   "cell_type": "markdown",
   "id": "d5b59244",
   "metadata": {},
   "source": [
    "~~~portugol\n",
    "programa\n",
    "{\n",
    "    funcao inicio()\n",
    "    {\n",
    "        cadeia nome = \"Fulano de Tal\"\n",
    "        escreva(nome)\n",
    "    }\n",
    "}\n",
    "~~~"
   ]
  },
  {
   "cell_type": "markdown",
   "id": "4ffc3bd3",
   "metadata": {},
   "source": [
    "#### Resultado\n",
    "\n",
    "> Fulano de Tal"
   ]
  },
  {
   "cell_type": "markdown",
   "id": "64a1a6a0",
   "metadata": {},
   "source": [
    "#### O que o programa fez\n",
    "\n",
    "O programa reservou uma parte da memória RAM para armazenar o texto `Fulano de Tal`. O comando `escreva()` recebe o nome da variável, o que faz com que seja exibido o valor armazenado dentro da variável. Como o nome da variável foi escrito dentro do comando `escreva()` sem as aspas, o nome da variável não é exibido na tela."
   ]
  },
  {
   "cell_type": "markdown",
   "id": "1a40ff10",
   "metadata": {},
   "source": [
    "### Tipos de variáveis no Portugol\n",
    "\n",
    "- **caracter**: guarda um valor de um único caractere.\n",
    "- **cadeia**: guarda uma cadeia de caracteres, como um texto, por exemplo.\n",
    "- **inteiro**: guarda um número inteiro, seja positivo ou negativo.\n",
    "- **real**: guarda um número real, que pode ou não ser decimal, seja positivo ou negativo.\n",
    "- **logico**: aceita valores do tipo `verdadeiro` ou `falso`."
   ]
  },
  {
   "cell_type": "markdown",
   "id": "9f6d10f9",
   "metadata": {},
   "source": [
    "### Nomes de variáveis\n",
    "\n",
    "Para nomear uma variável, você pode decidir o nome que quiser, desde que obedeça algumas regras:\n",
    "\n",
    "- Não pode conter espaços.\n",
    "- Não pode conter `ç`.\n",
    "- Não pode conter acentos.\n",
    "- Pode conter números, mas não pode começar com um número.\n",
    "- Não pode ser um nome repetido de outra variável.\n",
    "- Não pode ser uma palavra reservada pelo sistema.\n",
    "- Utilize o padrão de nomenclatura **Camel Case**, onde a primeira palavra é escrita totalmente minúscula, e da segunda em diante, inicial maiúscula e tudo junto.\n",
    "- Caso a variável seja do tipo `caracter` ou `cadeia`, o valor deve ser escrito entre **aspas duplas** `\"\"`.\n",
    "- Caso a variável seja do tipo real, as casas decimais devem ser separadas com ponto `.`."
   ]
  },
  {
   "cell_type": "markdown",
   "id": "7671270c",
   "metadata": {},
   "source": [
    "### Exemplos de variáveis\n",
    "\n",
    "~~~portugol\n",
    "programa\n",
    "{\n",
    "    funcao inicio()\n",
    "    {\n",
    "        caracter letra = \"a\"\n",
    "        cadeia nomeUsuario = \"Alex Machado\"\n",
    "        inteiro idadeUsuario = 40\n",
    "        real alturaUsuario = 1.72\n",
    "        logico programador = verdadeiro\n",
    "    }\n",
    "}\n",
    "~~~"
   ]
  },
  {
   "cell_type": "markdown",
   "id": "22ca94e2",
   "metadata": {},
   "source": [
    "### Entrando com dados em uma variável\n",
    "\n",
    "Até agora, nós inserimos os valores diretamente no código, mas e se quisessemos que o próprio usuário inserisse os valores? Para isso, precisaremos aprender o comando de **input**, ou seja, de entrada de dados, que é o comando `leia()`. Veja o exemplo abaixo:"
   ]
  },
  {
   "cell_type": "markdown",
   "id": "3a7db779",
   "metadata": {},
   "source": [
    "~~~portugol\n",
    "programa\n",
    "{\n",
    "    funcao inicio()\n",
    "    {\n",
    "        cadeia nome\n",
    "        inteiro idade\n",
    "\n",
    "        escreva(\"Informe seu nome: \")\n",
    "        leia(nome)\n",
    "        escreva(\"Informe sua idade: \")\n",
    "        leia(idade)\n",
    "\n",
    "        escreva(nome)\n",
    "        escreva(idade)\n",
    "    }\n",
    "}\n",
    "~~~"
   ]
  },
  {
   "cell_type": "markdown",
   "id": "c1eccb6a",
   "metadata": {},
   "source": [
    "### Resultado\n",
    "\n",
    "> Informe seu nome: _(digite seu nome. Exemplo: Alex Machado)<br />\n",
    "> Informe sua idade: _(digite sua idade. Exemplo: 40)<br />\n",
    "> Alex Machado40"
   ]
  },
  {
   "cell_type": "markdown",
   "id": "656a9762",
   "metadata": {},
   "source": [
    "### Concatenação de string com variáveis\n",
    "\n",
    "Como pode observar, as entradas estão juntas, e ele só mostra os valores das variáveis. Se quisemos mudar isso, precisaremos aprender a concatenar os valores.\n",
    "\n",
    "Isso é feito utilizando o sinal de vírgula `,` entre dois valores diferentes. Por exemplo: se eu quiser exibir o nome do usuário ao lado do texto `nome:` e a idade ao lado do texto `idade:`, e fazer uma quebra de linha entre os dois, precisarei fazer o código-fonte abaixo:"
   ]
  },
  {
   "cell_type": "markdown",
   "id": "f97ccda1",
   "metadata": {},
   "source": [
    "~~~portugol\n",
    "programa\n",
    "{\n",
    "    funcao inicio()\n",
    "    {\n",
    "        cadeia nome\n",
    "        inteiro idade\n",
    "\n",
    "        escreva(\"Informe seu nome: \")\n",
    "        leia(nome)\n",
    "        escreva(\"Informe sua idade: \")\n",
    "        leia(idade)\n",
    "\n",
    "        escreva(\"Nome: \", nome, \"\\n\")\n",
    "        escreva(\"Idade: \", idade, \"\\n\")\n",
    "    }\n",
    "}\n",
    "~~~"
   ]
  },
  {
   "cell_type": "markdown",
   "id": "88eaaf83",
   "metadata": {},
   "source": [
    "### Resultado\n",
    "\n",
    "> Informe seu nome: _(digite seu nome. Exemplo: Alex Machado)<br />\n",
    "> Informe sua idade: _(digite sua idade. Exemplo: 40)<br />\n",
    "> Nome: Alex Machado<br />\n",
    "> Idade: 40"
   ]
  },
  {
   "cell_type": "markdown",
   "id": "cf1effe1",
   "metadata": {},
   "source": [
    "### Explicação\n",
    "\n",
    "A vírgula `,` juntou os valores da string com as variáveis, enquanto o `\\n` fez a quebra de linha."
   ]
  },
  {
   "cell_type": "markdown",
   "id": "0256ac2d",
   "metadata": {},
   "source": [
    "## Comentários\n",
    "---\n",
    "\n",
    "Uma das coisas mais importantes em programação são as **linhas de comentários**. As linhas de comentários são trechos do código que não são lidos nem executados durante a execução do programa. O motivo pelo qual eles são tão importantes é que eles servem jusntamente para explicar a quem estiver lendo o código-fonte o que cada trecho faz.\n",
    "\n",
    "Há dois tipos de comentários: os de uma linha, demarcados por `//`, e os comentários de múltiplas linhas, que iniciam com `/*` e são finalizados com `*/`.\n",
    "\n",
    "Comentar o código é considerado uma boa prática de desenvolvimento, já que muitas vezes nem o próprio programador se lembra do que ele fez no código-fonte. Exemplo:"
   ]
  },
  {
   "cell_type": "markdown",
   "id": "9b526447",
   "metadata": {},
   "source": [
    "~~~portugol\n",
    "programa\n",
    "{\n",
    "    funcao inicio()\n",
    "    {\n",
    "        // declaração de variáveis\n",
    "        cadeia nome\n",
    "        inteiro idade\n",
    "\n",
    "        // entrada de dados\n",
    "        escreva(\"Informe seu nome: \")\n",
    "        leia(nome)\n",
    "        escreva(\"Informe sua idade: \")\n",
    "        leia(idade)\n",
    "\n",
    "        // saída de dados\n",
    "        escreva(\"Nome: \", nome, \"\\n\")\n",
    "        escreva(\"Idade: \", idade, \"\\n\")\n",
    "    }\n",
    "}\n",
    "~~~"
   ]
  }
 ],
 "metadata": {
  "language_info": {
   "name": "python"
  }
 },
 "nbformat": 4,
 "nbformat_minor": 5
}
