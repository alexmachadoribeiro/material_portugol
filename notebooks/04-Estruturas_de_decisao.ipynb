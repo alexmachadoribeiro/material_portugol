{
 "cells": [
  {
   "cell_type": "markdown",
   "id": "f2ed9fe0",
   "metadata": {},
   "source": [
    "# Estruturas de decisão\n",
    "---"
   ]
  },
  {
   "cell_type": "markdown",
   "id": "f867a6c1",
   "metadata": {},
   "source": [
    "<div style=\"display: flex; justify-content: center\">\n",
    "    <img src=\"../assets/caminhos.png\" alt=\"Caminhos\" />\n",
    "</div>"
   ]
  },
  {
   "cell_type": "markdown",
   "id": "e7ffab53",
   "metadata": {},
   "source": [
    "Até o momento, falamos de instruções bastante epecíficas, que tratam a solução como um caminho único. Mas sabemos que imprevistos acontecem. E se ocorrrer do computador precisar tomar uma decisão? Como ele faria isso? Como falado anteriormente, o computador é a coisa mais estúpida que existe no universo. Ele não fará nada, a não ser que você mande ou ensine. Nesse caso, **é sua tarefa ensinar o computador a tomar decisões**.\n",
    "\n",
    "### O que é uma Estrutura de decisão?\n",
    "\n",
    "É um bloco de programação que divide o seu código em dois algoritmos distintos, mas somente um deles será executado com base em uma condição determinada pelo próprio programador: caso a condição seja **verdadeira**, ele irá executar um algoritmo. Caso essa mesma condição seja **falsa**, um outro algoritmo será executado no lugar. Dessa forma, o programa poderá ser finalizado de duas formas diferentes. Ambos os algoritmos serão definidos pelo programador. Há também a possibilidade de ter mais de dois caminhos diferentes, e pode acontecer ainda do computador precisar avaliar duas ou mais condições diferentes simultaneamente. Entenda que é a partir daqui que iremos precisar dos operadores relacionais vistos na aula passada."
   ]
  },
  {
   "cell_type": "markdown",
   "id": "a265f592",
   "metadata": {},
   "source": [
    "## Estrutura se...senao\n",
    "---"
   ]
  },
  {
   "cell_type": "markdown",
   "id": "b4f3e955",
   "metadata": {},
   "source": [
    "De todas as estruturas que existem em programação, a mais famosa (e usada) é, de longe, o **if...else**, também conhecido como **se...senão**. Se você usa o Excel, então deve estar familiarizado com essa estrutura: ela é usada na função `=SE(condição;valor_se_verdadeiro;valor_se_falso)` do Excel, e segue a mesma linha de raciocínio.\n",
    "\n",
    "Funciona assim: suponha que um programa precisa verificar se um determinado usuário de nome _Fulano_ e idade _20_ seja maior de idade ou não. Então o dev irá desenvolver a seguinte estrutura:"
   ]
  },
  {
   "cell_type": "markdown",
   "id": "1ad00dd0",
   "metadata": {},
   "source": [
    "~~~portugol\n",
    "programa\n",
    "{\n",
    "    funcao inicio()\n",
    "    {\n",
    "        // declaração de variáveis\n",
    "        cadeia nome = \"Fulano\"\n",
    "        inteiro idade = 20\n",
    "\n",
    "        // estrutura de decisão\n",
    "        se (idade >= 18)\n",
    "        {\n",
    "            escreva(nome, \" é maior de idade.\")\n",
    "        }\n",
    "        senao\n",
    "        {\n",
    "            escreva(nome, \" é menor de idade.\")\n",
    "        }\n",
    "    }\n",
    "}\n",
    "~~~"
   ]
  },
  {
   "cell_type": "markdown",
   "id": "89bd6fe5",
   "metadata": {},
   "source": [
    "### Resultado\n",
    "\n",
    "> Fulano é maior de idade."
   ]
  },
  {
   "cell_type": "markdown",
   "id": "b966a1d2",
   "metadata": {},
   "source": [
    "No caso acima, o programa irá executar apenas a primeira saída de dados, e ignorar a segunda, já que ela satisfez a condição imposta. Agora vamos trocar a idade do Fulano para 15 e rodar de novo o programa:"
   ]
  },
  {
   "cell_type": "markdown",
   "id": "95ebe511",
   "metadata": {},
   "source": [
    "~~~portugol\n",
    "programa\n",
    "{\n",
    "    funcao inicio()\n",
    "    {\n",
    "        // declaração de variáveis\n",
    "        cadeia nome = \"Fulano\"\n",
    "        inteiro idade = 15\n",
    "\n",
    "        // estrutura de decisão\n",
    "        se (idade >= 18)\n",
    "        {\n",
    "            escreva(nome, \" é maior de idade.\")\n",
    "        }\n",
    "        senao\n",
    "        {\n",
    "            escreva(nome, \" é menor de idade.\")\n",
    "        }\n",
    "    }\n",
    "}\n",
    "~~~"
   ]
  },
  {
   "cell_type": "markdown",
   "id": "48e6e550",
   "metadata": {},
   "source": [
    "### Resultado\n",
    "\n",
    "> Fulano é menor de idade."
   ]
  },
  {
   "cell_type": "markdown",
   "id": "32db9ff7",
   "metadata": {},
   "source": [
    "Veja que agora o resultado final foi diferente: ele ignorou a primeira saída de dados, e executou a segunda, já que a condição imposta não foi atendida.\n",
    "\n",
    "Mais uma coisa: repare que as linhas de comando das saídas de dados estão com um recuo mais para a direita. **Este é um dos detalhes mais importantes do Python**, e que veremos à seguir.\n",
    "\n",
    "## Indentação\n",
    "---\n",
    "\n",
    "Indentação de código é uma prática que consiste em organizar o seu código para deixá-lo mais organizado, e consequentemente, mais legível e mais fácil para manutenção. A técnica é adicionar um espaçamento, ou um recuo à esquerda das linhas de comando que ficam dentro das estruturas, e dessa forma podemos identificar mais facilmente o que está dentro de um escopo e o que está fora dele.\n",
    "\n",
    "A indentação é facilmente identificada pelo espaço deixado no início da(s) linha(s) que ficam dentro das chaves, e deve ser obedecida sempre a fim de deixar o código legível e organizado."
   ]
  },
  {
   "cell_type": "markdown",
   "id": "d01d8c18",
   "metadata": {},
   "source": [
    "## Juntando estrutura de decisão com operadores booleanos\n",
    "---\n",
    "\n",
    "Há alguns casos em que será necessário que duas condições ou mais sejam aceitas para entrar em um resultado positivo. Vamos montar um outro cenário onde precisaríamos desse tipo de algoritmo.\n",
    "\n",
    "Suponha que João, que possui 11 anos, e 1,25 metros de altura, está em um parque de diversões junto com seus dois irmãos: o José, que tem 13 anos e 1,30 metros de altura, e a Maria, que tem 12 anos, e 1,15 metros de altura, e um dos brinquedos, o Trem Fantasma, tem um sistema que verifica a idade e a altura do usuário. Para ter sua entrada autorizada, ele precisa ter no mínimo 12 anos **E** 1,20 metros de altura. Veja bem: as duas condições precisam ser atendidas simultaneamente. O primeiro a entrar será o João, e para verificar se ele atende aos requisitos do brinquedo, o sistema deverá ter um algoritmo semelhante a este logo abaixo:"
   ]
  },
  {
   "cell_type": "markdown",
   "id": "03aa70d0",
   "metadata": {},
   "source": [
    "~~~portugol\n",
    "programa\n",
    "{\n",
    "    funcao inicio()\n",
    "    {\n",
    "        // declaração de variáveis\n",
    "        cadeia nome = \"João\"\n",
    "        inteiro idade = 11\n",
    "        real altura = 1.25\n",
    "\n",
    "        // estrutura de decisão\n",
    "        se (idade >= 12 e altura >= 1.20)\n",
    "        {\n",
    "            escreva(nome, \" está autorizado.\")\n",
    "        }\n",
    "        senao\n",
    "        {\n",
    "            escreva(nome, \" não está autorizado.\")\n",
    "        }\n",
    "    }\n",
    "}\n",
    "~~~"
   ]
  },
  {
   "cell_type": "markdown",
   "id": "680bb3e7",
   "metadata": {},
   "source": [
    "### Resultado\n",
    "\n",
    "> João não está autorizado."
   ]
  },
  {
   "cell_type": "markdown",
   "id": "c033c6ca",
   "metadata": {},
   "source": [
    "Veja que João não teve a sua entrada autorizada, pois não atende aos dois requisitos, mas apenas a um deles. Vamos ver agora a Maria:"
   ]
  },
  {
   "cell_type": "markdown",
   "id": "7ea95efa",
   "metadata": {},
   "source": [
    "~~~portugol\n",
    "programa\n",
    "{\n",
    "    funcao inicio()\n",
    "    {\n",
    "        // declaração de variáveis\n",
    "        cadeia nome = \"Maria\"\n",
    "        inteiro idade = 12\n",
    "        real altura = 1.15\n",
    "\n",
    "        // estrutura de decisão\n",
    "        se (idade >= 12 e altura >= 1.20)\n",
    "        {\n",
    "            escreva(nome, \" está autorizada.\")\n",
    "        }\n",
    "        senao\n",
    "        {\n",
    "            escreva(nome, \" não está autorizada.\")\n",
    "        }\n",
    "    }\n",
    "}\n",
    "~~~"
   ]
  },
  {
   "cell_type": "markdown",
   "id": "98a79a7d",
   "metadata": {},
   "source": [
    "### Resultado\n",
    "\n",
    "> Maria não está autorizada."
   ]
  },
  {
   "cell_type": "markdown",
   "id": "1a74415b",
   "metadata": {},
   "source": [
    "A entrada de Maria também não está autorizada, pois embora atenda ao primeiro requisito, ela não atende ao segundo. Vejamos agora o José:"
   ]
  },
  {
   "cell_type": "markdown",
   "id": "eec5e92e",
   "metadata": {},
   "source": [
    "~~~portugol\n",
    "programa\n",
    "{\n",
    "    funcao inicio()\n",
    "    {\n",
    "        // declaração de variáveis\n",
    "        cadeia nome = \"José\"\n",
    "        inteiro idade = 13\n",
    "        real altura = 1.30\n",
    "\n",
    "        // estrutura de decisão\n",
    "        se (idade >= 12 e altura >= 1.20)\n",
    "        {\n",
    "            escreva(nome, \" está autorizado.\")\n",
    "        }\n",
    "        senao\n",
    "        {\n",
    "            escreva(nome, \" não está autorizado.\")\n",
    "        }\n",
    "    }\n",
    "}\n",
    "~~~"
   ]
  },
  {
   "cell_type": "markdown",
   "id": "38ac1f2b",
   "metadata": {},
   "source": [
    "### Resultado\n",
    "\n",
    "> José está autorizado."
   ]
  },
  {
   "cell_type": "markdown",
   "id": "0a2f40bd",
   "metadata": {},
   "source": [
    "A entrada de José foi autorizada, já que foi o único dos 3 que atendeu a todos os requisitos do brinquedo."
   ]
  },
  {
   "cell_type": "markdown",
   "id": "cf08651b",
   "metadata": {},
   "source": [
    "## Senao se\n",
    "---\n",
    "\n",
    "Eventualmente, haverão casos em que o algoritmo poderá entregar 3 ou mais resultados diferentes. Nesses casos, a estrutura **se...senao** tradicional não funcionará, já que ela só pode entregar dois resultados possíveis: verdadeiro ou falso. É aí que entra o **senao se**, que permite adicionar mais saídas além de verdadeiro ou falso. Vejamos um exemplo prático: digamos que um aluno chamado Fulano tirou média 10 na nota final da escola, o Cicrano tirou 6, e o Beltrano tirou 4. Nessa escola, a média para aprovação é 7, mas o aluno só vai para recuperação caso a nota dele tenha ficado entre 5 e 7. Abaixo disso, ele é sumariamente reprovado. Então o sistema vai avaliar primeiro a nota do Fulano em um algoritmo parecido com esse:"
   ]
  },
  {
   "cell_type": "markdown",
   "id": "3238413d",
   "metadata": {},
   "source": [
    "~~~portugol\n",
    "programa\n",
    "{\n",
    "    funcao inicio()\n",
    "    {\n",
    "        // declaração de variáveis\n",
    "        cadeia nome = \"Fulano\"\n",
    "        real nota = 10\n",
    "\n",
    "        // estrutura de decisão\n",
    "        se (nota >= 7)\n",
    "        {\n",
    "            escreva(nome, \" está aprovado.\")\n",
    "        }\n",
    "        senao se (nota >= 5)\n",
    "        {\n",
    "            escreva(nome, \" está de recuperação.\")\n",
    "        }\n",
    "        senao\n",
    "        {\n",
    "            escreva(nome, \" está reprovado.\")\n",
    "        }\n",
    "    }\n",
    "}\n",
    "~~~"
   ]
  },
  {
   "cell_type": "markdown",
   "id": "a731edf3",
   "metadata": {},
   "source": [
    "### Resultado\n",
    "\n",
    "> Fulano está aprovado."
   ]
  },
  {
   "cell_type": "markdown",
   "id": "135645ff",
   "metadata": {},
   "source": [
    "Vejam que o Fulano foi aprovado, pois sua nota era maior que a mínima necessária para aprovação. Vejamos agora a nota do Cicrano:"
   ]
  },
  {
   "cell_type": "markdown",
   "id": "a7b2390a",
   "metadata": {},
   "source": [
    "~~~portugol\n",
    "programa\n",
    "{\n",
    "    funcao inicio()\n",
    "    {\n",
    "        // declaração de variáveis\n",
    "        cadeia nome = \"Cicrano\"\n",
    "        real nota = 6\n",
    "\n",
    "        // estrutura de decisão\n",
    "        se (nota >= 7)\n",
    "        {\n",
    "            escreva(nome, \" está aprovado.\")\n",
    "        }\n",
    "        senao se (nota >= 5)\n",
    "        {\n",
    "            escreva(nome, \" está de recuperação.\")\n",
    "        }\n",
    "        senao\n",
    "        {\n",
    "            escreva(nome, \" está reprovado.\")\n",
    "        }\n",
    "    }\n",
    "}\n",
    "~~~"
   ]
  },
  {
   "cell_type": "markdown",
   "id": "740ed950",
   "metadata": {},
   "source": [
    "### Resultado\n",
    "\n",
    "> Cicrano está de recuperação."
   ]
  },
  {
   "cell_type": "markdown",
   "id": "4094058b",
   "metadata": {},
   "source": [
    "Cicrano acabou ficando de recuperação, pois sua nota era menor que a mínima para aprovação, porém era maior que o limite da reprovação. É isso que o `senao se` faz: adiciona uma segunda verificação caso a primeira seja falsa. Dessa forma, se o meu código entrar dentro da verificação do `senao se`, é porque com certeza sua nota é menor que 7, logo não terá risco de conflitos. Agora, vamos verificar a nota do Beltrano:"
   ]
  },
  {
   "cell_type": "markdown",
   "id": "076ecfe8",
   "metadata": {},
   "source": [
    "~~~portugol\n",
    "programa\n",
    "{\n",
    "    funcao inicio()\n",
    "    {\n",
    "        // declaração de variáveis\n",
    "        cadeia nome = \"Beltrano\"\n",
    "        real nota = 4\n",
    "\n",
    "        // estrutura de decisão\n",
    "        se (nota >= 7)\n",
    "        {\n",
    "            escreva(nome, \" está aprovado.\")\n",
    "        }\n",
    "        senao se (nota >= 5)\n",
    "        {\n",
    "            escreva(nome, \" está de recuperação.\")\n",
    "        }\n",
    "        senao\n",
    "        {\n",
    "            escreva(nome, \" está reprovado.\")\n",
    "        }\n",
    "    }\n",
    "}\n",
    "~~~"
   ]
  },
  {
   "cell_type": "markdown",
   "id": "868f62c1",
   "metadata": {},
   "source": [
    "### Resultado\n",
    "\n",
    "> Beltrano está reprovado."
   ]
  },
  {
   "cell_type": "markdown",
   "id": "d6bcad02",
   "metadata": {},
   "source": [
    "Beltrano não conseguiu sequer atingir a nota mínima para ao menos conseguir a recuperação. Logo, a nota dele entrou na última verificação: aquela \"dos que sobram\"."
   ]
  },
  {
   "cell_type": "markdown",
   "id": "03a77bb8",
   "metadata": {},
   "source": [
    "### Agora vamos ver como ficam esses algoritmos com entrada de dados"
   ]
  },
  {
   "cell_type": "markdown",
   "id": "f9a4d740",
   "metadata": {},
   "source": [
    "#### Verificação de maioridade\n",
    "\n",
    "~~~portugol\n",
    "programa\n",
    "{\n",
    "    funcao inicio()\n",
    "    {\n",
    "        // declaração de variáveis\n",
    "        cadeia nome\n",
    "        inteiro idade\n",
    "\n",
    "        // entrada de dados\n",
    "        escreva(\"Informe seu nome: \")\n",
    "        leia(nome)\n",
    "        escreva(\"Informe sua idade: \")\n",
    "        leia(idade)\n",
    "\n",
    "        // estrutura de decisão\n",
    "        se (idade >= 18)\n",
    "        {\n",
    "            escreva(nome, \" é maior de idade.\")\n",
    "        }\n",
    "        senao\n",
    "        {\n",
    "            escreva(nome, \" é menor de idade.\")\n",
    "        }\n",
    "    }\n",
    "}\n",
    "~~~"
   ]
  }
 ],
 "metadata": {
  "language_info": {
   "name": "python"
  }
 },
 "nbformat": 4,
 "nbformat_minor": 5
}
