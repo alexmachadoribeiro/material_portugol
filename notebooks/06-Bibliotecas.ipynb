{
 "cells": [
  {
   "cell_type": "markdown",
   "id": "b8e40415",
   "metadata": {},
   "source": [
    "# **Bibliotecas**\n",
    "---\n",
    "\n",
    "Até o momento, estamos usando os comandos básicos da programação para criar nossos algoritmos. Mas haverão momentos em que precisaremos de alguns recursos que não estarão à nossa disposição logo de cara. Para isso, precisaremos importar bibliotecas para o nosso código.\n",
    "\n",
    "A função das bibliotecas é adicionar novos comandos que antes não estavam disponíveis.\n",
    "\n",
    "Por exemplo, vamos supor que eu precise calcular a raíz quadrada de um número. Não conseguiria fazer isso de forma simples no portugol, mas posso importar uma biblioteca chamada `Matematica`, por exemplo. Veja:"
   ]
  },
  {
   "cell_type": "markdown",
   "id": "7cba800d",
   "metadata": {},
   "source": [
    "#### Raiz Quadrada\n",
    "\n",
    "~~~portugol\n",
    "programa\n",
    "{\n",
    "    // importa biblioteca\n",
    "    inclua biblioteca Matematica --> mat\n",
    "\n",
    "    funcao inicio()\n",
    "    {\n",
    "        // declaração de variáveis\n",
    "        inteiro numero\n",
    "        real raiz\n",
    "\n",
    "        // entrada de dados\n",
    "        escreva(\"Informe um número inteiro: \")\n",
    "        leia(numero)\n",
    "\n",
    "        // calcula a raíz quadrada\n",
    "        raiz = mat.raiz(numero, 2)\n",
    "\n",
    "        // saída de dados\n",
    "        escreva(\"A raíz quadrada de \", numero, \" é \", raiz, \".\")\n",
    "    }\n",
    "}\n",
    "~~~"
   ]
  },
  {
   "cell_type": "markdown",
   "id": "f623d0bc",
   "metadata": {},
   "source": [
    "### Resultado\n",
    "\n",
    "> Informe um número inteiro: 4<br />\n",
    "> A raíz quadrada de 4 é 2.0."
   ]
  }
 ],
 "metadata": {
  "language_info": {
   "name": "python"
  }
 },
 "nbformat": 4,
 "nbformat_minor": 5
}
