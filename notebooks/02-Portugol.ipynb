{
 "cells": [
  {
   "cell_type": "markdown",
   "id": "75265c78",
   "metadata": {},
   "source": [
    "# **Portugol**\n",
    "---"
   ]
  },
  {
   "cell_type": "markdown",
   "id": "f07a87f0",
   "metadata": {},
   "source": [
    "## Pré-requisitos da aula\n",
    "\n",
    "- Lógica de Programação\n",
    "\n",
    "---"
   ]
  },
  {
   "cell_type": "markdown",
   "id": "c58022f9",
   "metadata": {},
   "source": [
    "## Portugol: o pseudo-código\n",
    "---"
   ]
  },
  {
   "cell_type": "markdown",
   "id": "eeff88a4",
   "metadata": {},
   "source": [
    "Na aula anterior, vimos que existem três formas diferentes de se representar um algoritmo. A partir dessa aula, iremos trabalhar com a terceira forma, a mais usada: o pseudo-código, que aqui será chamado de **Portugol**.\n",
    "\n",
    "> ***O Portugol é uma linguagem utilizada para fins educacionais com o objetivo de ensinar programação. Ao utilizar o Portugol, etaremos simulando um ambiente de desenvolvimento.***\n",
    "\n",
    "Há duas formas de se utilizar o Portugol:\n",
    "\n",
    "- Podemos utilizar a versão online dela, o **Portugol Web Studio**, que é mais limitada, e pode ser acessada clicando [aqui](https://portugol.dev/), ou acessando o endereço https://portugol.dev/.\n",
    "- Podemos baixar o software para instalação e trabalhar localmente. Essa forma possui mais recursos, e a página de download da versão desktop pode ser baixada clicando [aqui](https://univali-lite.github.io/Portugol-Studio/), ou acessando https://univali-lite.github.io/Portugol-Studio/.\n",
    "\n",
    "Independente de qual forma deseja utilizar o Portugol, a linguagem é extremamente limitada em relação às outras linguagens de programação, e só é utilizada para fins didáticos.\n",
    "\n",
    "Para esse tutorial, iremos utilizar a versão desktop. Acesse a página do [Portugol Studio versão Desktop](https://univali-lite.github.io/Portugol-Studio/) e faça o download do programa. Para instalar, é só abrir o executável e ir clicando em **Avançar** até aparecer o botão **Instalar**, e depois aguardar a instalação. Não tem segredo."
   ]
  },
  {
   "cell_type": "markdown",
   "id": "e6c43ec1",
   "metadata": {},
   "source": [
    "<div style=\"display: flex; justify-content: center\">\n",
    "    <img src=\"../assets/01-02.png\" alt=\"Portugol Dowwnload\" />\n",
    "</div>"
   ]
  },
  {
   "cell_type": "markdown",
   "id": "022e038a",
   "metadata": {},
   "source": [
    "Após instalar o programa, abra-o. e você verá a tela abaixo:"
   ]
  },
  {
   "cell_type": "markdown",
   "id": "7add5c3d",
   "metadata": {},
   "source": [
    "<div style=\"display: flex; justify-content: center\">\n",
    "    <img src=\"../assets/01-03.png\" alt=\"Portugol\" />\n",
    "</div>"
   ]
  },
  {
   "cell_type": "markdown",
   "id": "4dc91f83",
   "metadata": {},
   "source": [
    "No alto da janela, você pode reparar que o portugol trabalha com um sistema de guias, e do lado da primeira guia, há um sinal de `+` (mais). Esse sinal cria um novo arquivo. As extensões dos códigos-fonte do portugol é `.por`. Clique no final de `+` para criarmos nosso primeiro programa:"
   ]
  },
  {
   "cell_type": "markdown",
   "id": "c106f1f0",
   "metadata": {},
   "source": [
    "<div style=\"display: flex; justify-content: center\">\n",
    "    <img src=\"../assets/01-04.png\" alt=\"Portugol\" />\n",
    "</div>"
   ]
  },
  {
   "cell_type": "markdown",
   "id": "03c475f0",
   "metadata": {},
   "source": [
    "Isso fará com que um arquivo com código-fonte em Portugol seja aberto. Este código-fonte em aberto já é de um programa de computador pronto. O programa em questão é o ***Hello World***, e será o nosso primeiro programa de computador que iremos executar no curso."
   ]
  },
  {
   "cell_type": "markdown",
   "id": "e9d26112",
   "metadata": {},
   "source": [
    "> ***O Hello World é um dos programas mais famosos que existem, e costuma ser o primeiro programa de computador criado por quem está começando agora. A função do programa é exibir na tela o texto \"Olá, mundo\". O objetivo de criar o programa é o de mostrar ao futuro desenvolvedor como a linguagem trabalha com a saída de dados.***"
   ]
  },
  {
   "cell_type": "markdown",
   "id": "20743a74",
   "metadata": {},
   "source": [
    "O código-fonte do programa **Hello World** em portugol se encontra abaixo:\n",
    "\n",
    "### Hello World\n",
    "\n",
    "~~~portugol\n",
    "programa\n",
    "{\n",
    "    funcao inicio()\n",
    "    {\n",
    "        escreva(\"Olá Mundo\")\n",
    "    }\n",
    "}\n",
    "~~~"
   ]
  },
  {
   "cell_type": "markdown",
   "id": "d1e5999f",
   "metadata": {},
   "source": [
    "Para executar o programa, clique no botão **Executar** na parte esquerda da janela:"
   ]
  },
  {
   "cell_type": "markdown",
   "id": "dac8183c",
   "metadata": {},
   "source": [
    "<div style=\"display: flex; justify-content: center\">\n",
    "    <img src=\"../assets/01-05.png\" alt=\"Hello World\" />\n",
    "</div>"
   ]
  },
  {
   "cell_type": "markdown",
   "id": "c19734e1",
   "metadata": {},
   "source": [
    "O resultado irá aparecer em um console na tela do portugol, como na tela abaixo:"
   ]
  },
  {
   "cell_type": "markdown",
   "id": "a66e2748",
   "metadata": {},
   "source": [
    "<div style=\"display: flex; justify-content: center\">\n",
    "    <img src=\"../assets/01-06.png\" alt=\"Olá mundo\" />\n",
    "</div>"
   ]
  },
  {
   "cell_type": "markdown",
   "id": "5f07280f",
   "metadata": {},
   "source": [
    "## Estrutura do Portugol\n",
    "---"
   ]
  },
  {
   "cell_type": "markdown",
   "id": "17556df2",
   "metadata": {},
   "source": [
    "Agora que finalmente executamos um algoritmo em portugol, vamos tentar entender a estrutura do código-fonte:\n",
    "\n",
    "~~~portugol\n",
    "programa\n",
    "{\n",
    "    // código-fonte do programa\n",
    "}\n",
    "~~~"
   ]
  },
  {
   "cell_type": "markdown",
   "id": "f55c129e",
   "metadata": {},
   "source": [
    "A estrutura `programa` é onde o seu algoritmo deverá ser escrito. Obrigatoriamente, a abertura da chave `{` indica o início do seu programa, enquanto o fechamento do mesmo `}` indica seu encerramento. Absolutamente nada do seu programa deverá ser escrito antes de `{` ou depois de `}`."
   ]
  },
  {
   "cell_type": "markdown",
   "id": "8c2a330b",
   "metadata": {},
   "source": [
    "~~~portugol\n",
    "funcao inicio()\n",
    "{\n",
    "    // algoritmo principal\n",
    "}\n",
    "~~~"
   ]
  },
  {
   "cell_type": "markdown",
   "id": "a3f8f1f3",
   "metadata": {},
   "source": [
    "A função `inicio()` marca a função principal do seu programa. Você até poderá criar outras funções, mas será essa função que será executada quando voc~e pedir parar rodar o programa, sendo que os elementos principais do seu algoritmo devem estar dentro dessa função, incluindo as chamadas de outras funções que criar."
   ]
  },
  {
   "cell_type": "markdown",
   "id": "c9f937af",
   "metadata": {},
   "source": [
    "~~~portugol\n",
    "escreva(\"Olá Mundo\")\n",
    "~~~"
   ]
  },
  {
   "cell_type": "markdown",
   "id": "bd5f7e86",
   "metadata": {},
   "source": [
    "Essa função executa especificamente a saída de uma informação no terminal do seu computador. Essa informação poderá ser de vários tipos diferentes. Quando ela está entre aspas, significa que a informação em questão é um texto que deve ser exibido exatamente como foi escrito dentro das aspas. Sempre que uma informação for escrita dentro das aspas, chamamos de ***string***. Nesse caso, estamos pedindo para o computador exibir o texto `Olá Mundo` no terminal através da função `escreva()`."
   ]
  },
  {
   "cell_type": "markdown",
   "id": "325146c6",
   "metadata": {},
   "source": [
    "### Salvando o programa em portugol\n",
    "\n",
    "Para salvarmos o programa, é simples: basta usar a tecla de atalho `Ctrl+S`, ou então clicar no desenho que imita um pen drive na parte esquerda da janela:"
   ]
  },
  {
   "cell_type": "markdown",
   "id": "ec3ad8c9",
   "metadata": {},
   "source": [
    "<div style=\"display: flex; justify-content: center\">\n",
    "    <img src=\"../assets/01-07.png\" alt=\"Hello World\" />\n",
    "</div>"
   ]
  },
  {
   "cell_type": "markdown",
   "id": "a58c142d",
   "metadata": {},
   "source": [
    "Daí, é só escolher a pasta que achar melhor e ser feliz."
   ]
  },
  {
   "cell_type": "markdown",
   "id": "d71bcfd3",
   "metadata": {},
   "source": [
    "### Abrindo arquivo portugol\n",
    "\n",
    "Caso deseje abrir um código-fonte feito em portugol, basta abrir o portugol na sua máquina, e na tela inicial, clicar em `Abrir arquivo`:"
   ]
  },
  {
   "cell_type": "markdown",
   "id": "22c02294",
   "metadata": {},
   "source": [
    "<div style=\"display: flex; justify-content: center\">\n",
    "    <img src=\"../assets/01-08.png\" alt=\"Hello World\" />\n",
    "</div>"
   ]
  }
 ],
 "metadata": {
  "language_info": {
   "name": "python"
  }
 },
 "nbformat": 4,
 "nbformat_minor": 5
}
